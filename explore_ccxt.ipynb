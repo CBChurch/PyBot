{
 "cells": [
  {
   "cell_type": "code",
   "execution_count": 2,
   "metadata": {
    "ExecuteTime": {
     "end_time": "2018-04-14T11:19:05.193429Z",
     "start_time": "2018-04-14T11:19:02.101171Z"
    }
   },
   "outputs": [],
   "source": [
    "from forex_python.converter import CurrencyRates\n",
    "import ccxt\n",
    "import pandas_datareader.data as web\n",
    "import datetime\n",
    "import time"
   ]
  },
  {
   "cell_type": "code",
   "execution_count": 25,
   "metadata": {
    "ExecuteTime": {
     "end_time": "2018-04-10T19:21:59.946931Z",
     "start_time": "2018-04-10T19:21:37.237291Z"
    }
   },
   "outputs": [
    {
     "name": "stdout",
     "output_type": "stream",
     "text": [
      "12.056\n"
     ]
    }
   ],
   "source": [
    "#zar = web.get_data_fred('DEXSFUS')\n",
    "\n",
    "CR = CurrencyRates()\n",
    "\n",
    "start = datetime.datetime(2018,1,1)\n",
    "end = datetime.datetime.now()\n",
    "\n",
    "datelist = [start + datetime.timedelta(days=x) for x in range(0, (end-start).days)]\n",
    "\n",
    "ratelist = [CR.get_rate('USD','ZAR',x) for x in datelist]\n",
    "\n",
    "print(CR.get_rate('USD', 'ZAR', end) )\n"
   ]
  },
  {
   "cell_type": "code",
   "execution_count": 36,
   "metadata": {
    "ExecuteTime": {
     "end_time": "2018-04-10T19:30:22.746855Z",
     "start_time": "2018-04-10T19:30:22.399813Z"
    }
   },
   "outputs": [
    {
     "name": "stdout",
     "output_type": "stream",
     "text": [
      "0.0829462508295\n"
     ]
    }
   ],
   "source": [
    "ZARUSD = CR.get_rate('USD', 'ZAR')\n",
    "USDZAR = 1/ZARUSD\n",
    "print(USDZAR)"
   ]
  },
  {
   "cell_type": "code",
   "execution_count": 27,
   "metadata": {
    "ExecuteTime": {
     "end_time": "2018-04-10T19:23:50.091016Z",
     "start_time": "2018-04-10T19:23:50.072987Z"
    }
   },
   "outputs": [],
   "source": [
    "luno = ccxt.luno()\n",
    "bitstamp = ccxt.bitstamp()\n",
    "ice3x = ccxt.ice3x()\n",
    "kraken = ccxt.kraken()"
   ]
  },
  {
   "cell_type": "code",
   "execution_count": 28,
   "metadata": {
    "ExecuteTime": {
     "end_time": "2018-04-10T19:24:57.408059Z",
     "start_time": "2018-04-10T19:24:46.349563Z"
    }
   },
   "outputs": [
    {
     "name": "stdout",
     "output_type": "stream",
     "text": [
      "{'info': {u'last_trade': u'84011.00', u'timestamp': 1523388287143, u'bid': u'84022.00', u'rolling_24_hour_volume': u'283.524985', u'pair': u'XBTZAR', u'ask': u'84394.00'}, 'askVolume': None, 'last': 84011.0, 'timestamp': 1523388287143, 'symbol': u'BTC/ZAR', 'previousClose': None, 'bidVolume': None, 'datetime': '2018-04-10T19:24:47.143Z', 'high': None, 'average': None, 'low': None, 'quoteVolume': None, 'ask': 84394.0, 'close': 84011.0, 'percentage': None, 'vwap': None, 'open': None, 'bid': 84022.0, 'change': None, 'baseVolume': 283.524985}\n",
      "{'info': {u'volume': u'7381.56200881', u'last': u'6847.20', u'timestamp': u'1523388285', u'bid': u'6843.97', u'vwap': u'6743.92', u'high': u'6871.88', u'low': u'6611.49', u'ask': u'6847.40', u'open': u'6782.39'}, 'askVolume': None, 'last': 6847.2, 'timestamp': 1523388285000, 'symbol': 'BTC/USD', 'previousClose': None, 'bidVolume': None, 'datetime': '2018-04-10T19:24:45.000Z', 'high': 6871.88, 'average': None, 'low': 6611.49, 'quoteVolume': 49780663.66245394, 'ask': 6847.4, 'close': 6847.2, 'percentage': None, 'vwap': 6743.92, 'open': 6782.39, 'bid': 6843.97, 'change': None, 'baseVolume': 7381.56200881}\n",
      "{'info': {u'avg': u'83095.39112364', u'min': u'82101.00000000', u'vol': u'0.91283989', u'max': u'121000.00000000', u'last_price': u'84500.00000000', u'pair_name': u'btc/zar', u'pair_id': u'3'}, 'askVolume': None, 'last': 84500.0, 'timestamp': 1523388291580, 'symbol': u'BTC/ZAR', 'previousClose': None, 'bidVolume': None, 'datetime': '2018-04-10T19:24:51.580Z', 'high': 121000.0, 'average': 83095.39112364, 'low': 82101.0, 'quoteVolume': 0.91283989, 'ask': None, 'close': 84500.0, 'percentage': None, 'vwap': None, 'open': None, 'bid': None, 'change': None, 'baseVolume': None}\n",
      "{'info': {u'a': [u'6834.00000', u'1', u'1.000'], u'c': [u'6830.20000', u'3.12519926'], u'b': [u'6833.10000', u'1', u'1.000'], u'h': [u'6883.60000', u'6883.60000'], u'l': [u'6646.80000', u'6608.30000'], u'o': u'6774.20000', u'p': [u'6771.19940', u'6740.75869'], u't': [9971, 15782], u'v': [u'3774.40623680', u'6189.64623778']}, 'askVolume': None, 'last': 6830.2, 'timestamp': 1523388297403, 'symbol': u'BTC/USD', 'previousClose': None, 'bidVolume': None, 'datetime': '2018-04-10T19:24:57.403Z', 'high': 6883.6, 'average': None, 'low': 6608.3, 'quoteVolume': 41722911.66534134, 'ask': 6834.0, 'close': 6830.2, 'percentage': None, 'vwap': 6740.75869, 'open': 6774.2, 'bid': 6833.1, 'change': None, 'baseVolume': 6189.64623778}\n"
     ]
    }
   ],
   "source": [
    "LUNO_BTC = luno.fetch_ticker('BTC/ZAR')\n",
    "BS_BTC = bitstamp.fetch_ticker('BTC/USD')\n",
    "ICE_BTC = ice3x.fetch_ticker('BTC/ZAR')\n",
    "KR_BTC = kraken.fetch_ticker('BTC/USD')\n",
    "\n",
    "print(LUNO_BTC)\n",
    "print(BS_BTC)\n",
    "print(ICE_BTC)\n",
    "print(KR_BTC)"
   ]
  },
  {
   "cell_type": "code",
   "execution_count": 29,
   "metadata": {
    "ExecuteTime": {
     "end_time": "2018-04-10T19:25:24.327387Z",
     "start_time": "2018-04-10T19:25:24.317138Z"
    }
   },
   "outputs": [
    {
     "data": {
      "text/plain": [
       "84394.0"
      ]
     },
     "execution_count": 29,
     "metadata": {},
     "output_type": "execute_result"
    }
   ],
   "source": [
    "LUNO_BTC['ask']"
   ]
  },
  {
   "cell_type": "code",
   "execution_count": 30,
   "metadata": {
    "ExecuteTime": {
     "end_time": "2018-04-10T19:25:35.911145Z",
     "start_time": "2018-04-10T19:25:35.901350Z"
    }
   },
   "outputs": [
    {
     "data": {
      "text/plain": [
       "84022.0"
      ]
     },
     "execution_count": 30,
     "metadata": {},
     "output_type": "execute_result"
    }
   ],
   "source": [
    "LUNO_BTC['bid']"
   ]
  },
  {
   "cell_type": "code",
   "execution_count": 31,
   "metadata": {
    "ExecuteTime": {
     "end_time": "2018-04-10T19:25:53.040412Z",
     "start_time": "2018-04-10T19:25:53.031489Z"
    }
   },
   "outputs": [
    {
     "data": {
      "text/plain": [
       "6847.4"
      ]
     },
     "execution_count": 31,
     "metadata": {},
     "output_type": "execute_result"
    }
   ],
   "source": [
    "BS_BTC['ask']"
   ]
  },
  {
   "cell_type": "code",
   "execution_count": 32,
   "metadata": {
    "ExecuteTime": {
     "end_time": "2018-04-10T19:26:01.418738Z",
     "start_time": "2018-04-10T19:26:01.409240Z"
    }
   },
   "outputs": [
    {
     "data": {
      "text/plain": [
       "6843.97"
      ]
     },
     "execution_count": 32,
     "metadata": {},
     "output_type": "execute_result"
    }
   ],
   "source": [
    "BS_BTC['bid']"
   ]
  },
  {
   "cell_type": "code",
   "execution_count": 40,
   "metadata": {
    "ExecuteTime": {
     "end_time": "2018-04-10T19:35:05.632333Z",
     "start_time": "2018-04-10T19:35:05.624354Z"
    }
   },
   "outputs": [
    {
     "name": "stdout",
     "output_type": "stream",
     "text": [
      "(35000, 35160.25773233529, 0.4578792352436825)\n"
     ]
    }
   ],
   "source": [
    "AMT = 35000\n",
    "AMT_D = 0.9998*0.99*LUNO_BTC['bid']*(USDZAR*AMT*(1/BS_BTC['ask']) - 7.5*(1/BS_BTC['ask']))-8.5\n",
    "DIFF = AMT_D - AMT\n",
    "ARB = 100*(DIFF/AMT)\n",
    "print(AMT, AMT_D, ARB)\n"
   ]
  },
  {
   "cell_type": "code",
   "execution_count": 41,
   "metadata": {
    "ExecuteTime": {
     "end_time": "2018-04-10T19:46:39.038253Z",
     "start_time": "2018-04-10T19:46:39.032549Z"
    }
   },
   "outputs": [
    {
     "name": "stdout",
     "output_type": "stream",
     "text": [
      "[10000, 15000, 20000, 25000, 30000, 35000, 40000, 45000]\n"
     ]
    }
   ],
   "source": [
    "print(range(10000,50000,5000))"
   ]
  },
  {
   "cell_type": "code",
   "execution_count": 2,
   "metadata": {
    "ExecuteTime": {
     "end_time": "2018-04-11T16:40:56.379365Z",
     "start_time": "2018-04-11T16:40:56.358137Z"
    }
   },
   "outputs": [
    {
     "data": {
      "text/plain": [
       "datetime.datetime(2018, 4, 11, 18, 40, 56, 359846)"
      ]
     },
     "execution_count": 2,
     "metadata": {},
     "output_type": "execute_result"
    }
   ],
   "source": [
    "datetime.datetime.now()"
   ]
  },
  {
   "cell_type": "code",
   "execution_count": 14,
   "metadata": {
    "ExecuteTime": {
     "end_time": "2018-04-11T16:44:09.391039Z",
     "start_time": "2018-04-11T16:44:09.384507Z"
    }
   },
   "outputs": [
    {
     "name": "stdout",
     "output_type": "stream",
     "text": [
      "1 day, 18:44:09.387120\n"
     ]
    }
   ],
   "source": [
    "a = datetime.datetime(2018,4,10)\n",
    "#time.sleep(2)\n",
    "b = datetime.datetime.now()\n",
    "c = b-a\n",
    "print(b-a)"
   ]
  },
  {
   "cell_type": "code",
   "execution_count": 24,
   "metadata": {
    "ExecuteTime": {
     "end_time": "2018-04-11T16:46:17.726453Z",
     "start_time": "2018-04-11T16:46:17.718077Z"
    }
   },
   "outputs": [
    {
     "data": {
      "text/plain": [
       "18"
      ]
     },
     "execution_count": 24,
     "metadata": {},
     "output_type": "execute_result"
    }
   ],
   "source": [
    "c.seconds//3600"
   ]
  },
  {
   "cell_type": "code",
   "execution_count": 36,
   "metadata": {
    "ExecuteTime": {
     "end_time": "2018-04-11T16:48:29.617302Z",
     "start_time": "2018-04-11T16:48:29.611970Z"
    }
   },
   "outputs": [],
   "source": [
    "d = datetime.timedelta(seconds = 100000)"
   ]
  },
  {
   "cell_type": "code",
   "execution_count": 40,
   "metadata": {
    "ExecuteTime": {
     "end_time": "2018-04-11T16:51:02.043753Z",
     "start_time": "2018-04-11T16:51:02.034177Z"
    }
   },
   "outputs": [
    {
     "data": {
      "text/plain": [
       "True"
      ]
     },
     "execution_count": 40,
     "metadata": {},
     "output_type": "execute_result"
    }
   ],
   "source": [
    "c > datetime.timedelta(seconds=20)"
   ]
  },
  {
   "cell_type": "code",
   "execution_count": 35,
   "metadata": {
    "ExecuteTime": {
     "end_time": "2018-04-11T16:48:25.530422Z",
     "start_time": "2018-04-11T16:48:25.521097Z"
    }
   },
   "outputs": [
    {
     "data": {
      "text/plain": [
       "86400"
      ]
     },
     "execution_count": 35,
     "metadata": {},
     "output_type": "execute_result"
    }
   ],
   "source": [
    "60*60*24"
   ]
  },
  {
   "cell_type": "code",
   "execution_count": null,
   "metadata": {
    "ExecuteTime": {
     "end_time": "2018-04-11T19:57:07.138918Z",
     "start_time": "2018-04-11T19:57:06.353255Z"
    }
   },
   "outputs": [
    {
     "name": "stdout",
     "output_type": "stream",
     "text": [
      "{\"ok\":true,\"result\":[{\"update_id\":213821150,\n",
      "\"message\":{\"message_id\":55,\"from\":{\"id\":419194191,\"is_bot\":false,\"first_name\":\"Chris\",\"language_code\":\"en-gb\"},\"chat\":{\"id\":419194191,\"first_name\":\"Chris\",\"type\":\"private\"},\"date\":1523476254,\"text\":\"Test\"}}]}\n"
     ]
    }
   ],
   "source": [
    "import json \n",
    "import requests\n",
    "\n",
    "TOKEN = \"\"\n",
    "URL = \"https://api.telegram.org/bot{}/\".format(TOKEN)+\"getUpdates\"\n",
    "\n",
    "response = requests.get(URL)\n",
    "content = response.content.decode(\"utf8\")\n",
    "print(content)"
   ]
  },
  {
   "cell_type": "code",
   "execution_count": 71,
   "metadata": {
    "ExecuteTime": {
     "end_time": "2018-04-11T20:02:11.818468Z",
     "start_time": "2018-04-11T20:02:11.812118Z"
    }
   },
   "outputs": [
    {
     "name": "stdout",
     "output_type": "stream",
     "text": [
      "Test\n"
     ]
    }
   ],
   "source": [
    "import json\n",
    "js = json.loads(content)\n",
    "print(js[\"result\"][0][\"message\"][\"text\"])"
   ]
  },
  {
   "cell_type": "code",
   "execution_count": 78,
   "metadata": {
    "ExecuteTime": {
     "end_time": "2018-04-11T20:03:06.766693Z",
     "start_time": "2018-04-11T20:03:06.761042Z"
    }
   },
   "outputs": [
    {
     "name": "stdout",
     "output_type": "stream",
     "text": [
      "419194191\n"
     ]
    }
   ],
   "source": [
    "print(js[\"result\"][0][\"message\"][\"from\"][\"id\"])"
   ]
  },
  {
   "cell_type": "code",
   "execution_count": 4,
   "metadata": {
    "ExecuteTime": {
     "end_time": "2018-04-14T11:20:13.351137Z",
     "start_time": "2018-04-14T11:20:13.345526Z"
    }
   },
   "outputs": [],
   "source": [
    "CT = datetime.datetime.now()\n",
    "print(CT)"
   ]
  },
  {
   "cell_type": "code",
   "execution_count": 11,
   "metadata": {
    "ExecuteTime": {
     "end_time": "2018-04-14T11:22:00.469483Z",
     "start_time": "2018-04-14T11:22:00.463260Z"
    }
   },
   "outputs": [
    {
     "name": "stdout",
     "output_type": "stream",
     "text": [
      "2018-04-14 07:30:00.347292\n"
     ]
    }
   ],
   "source": [
    "MorningTime = CT.replace(hour = 7, minute = 30, second = 0)\n",
    "print(MorningTime)"
   ]
  },
  {
   "cell_type": "code",
   "execution_count": null,
   "metadata": {},
   "outputs": [],
   "source": []
  }
 ],
 "metadata": {
  "kernelspec": {
   "display_name": "Python 2",
   "language": "python",
   "name": "python2"
  },
  "language_info": {
   "codemirror_mode": {
    "name": "ipython",
    "version": 2
   },
   "file_extension": ".py",
   "mimetype": "text/x-python",
   "name": "python",
   "nbconvert_exporter": "python",
   "pygments_lexer": "ipython2",
   "version": "2.7.14"
  }
 },
 "nbformat": 4,
 "nbformat_minor": 1
}
