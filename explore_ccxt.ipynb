{
 "cells": [
  {
   "cell_type": "code",
   "execution_count": 43,
   "metadata": {
    "ExecuteTime": {
     "end_time": "2018-04-14T16:11:23.784469Z",
     "start_time": "2018-04-14T16:11:23.364812Z"
    }
   },
   "outputs": [],
   "source": [
    "from forex_python.converter import CurrencyRates\n",
    "import ccxt\n",
    "import pandas_datareader.data as web\n",
    "import datetime\n",
    "import time\n",
    "import numpy as np\n",
    "from time import sleep\n",
    "\n",
    "\n",
    "%matplotlib inline\n",
    "\n",
    "import matplotlib\n",
    "import matplotlib.pyplot as plt"
   ]
  },
  {
   "cell_type": "code",
   "execution_count": 25,
   "metadata": {
    "ExecuteTime": {
     "end_time": "2018-04-10T19:21:59.946931Z",
     "start_time": "2018-04-10T19:21:37.237291Z"
    }
   },
   "outputs": [
    {
     "name": "stdout",
     "output_type": "stream",
     "text": [
      "12.056\n"
     ]
    }
   ],
   "source": [
    "#zar = web.get_data_fred('DEXSFUS')\n",
    "\n",
    "CR = CurrencyRates()\n",
    "\n",
    "start = datetime.datetime(2018,1,1)\n",
    "end = datetime.datetime.now()\n",
    "\n",
    "datelist = [start + datetime.timedelta(days=x) for x in range(0, (end-start).days)]\n",
    "\n",
    "ratelist = [CR.get_rate('USD','ZAR',x) for x in datelist]\n",
    "\n",
    "print(CR.get_rate('USD', 'ZAR', end) )\n"
   ]
  },
  {
   "cell_type": "code",
   "execution_count": 36,
   "metadata": {
    "ExecuteTime": {
     "end_time": "2018-04-10T19:30:22.746855Z",
     "start_time": "2018-04-10T19:30:22.399813Z"
    }
   },
   "outputs": [
    {
     "name": "stdout",
     "output_type": "stream",
     "text": [
      "0.0829462508295\n"
     ]
    }
   ],
   "source": [
    "ZARUSD = CR.get_rate('USD', 'ZAR')\n",
    "USDZAR = 1/ZARUSD\n",
    "print(USDZAR)"
   ]
  },
  {
   "cell_type": "code",
   "execution_count": 27,
   "metadata": {
    "ExecuteTime": {
     "end_time": "2018-04-10T19:23:50.091016Z",
     "start_time": "2018-04-10T19:23:50.072987Z"
    }
   },
   "outputs": [],
   "source": [
    "luno = ccxt.luno()\n",
    "bitstamp = ccxt.bitstamp()\n",
    "ice3x = ccxt.ice3x()\n",
    "kraken = ccxt.kraken()"
   ]
  },
  {
   "cell_type": "code",
   "execution_count": 28,
   "metadata": {
    "ExecuteTime": {
     "end_time": "2018-04-10T19:24:57.408059Z",
     "start_time": "2018-04-10T19:24:46.349563Z"
    }
   },
   "outputs": [
    {
     "name": "stdout",
     "output_type": "stream",
     "text": [
      "{'info': {u'last_trade': u'84011.00', u'timestamp': 1523388287143, u'bid': u'84022.00', u'rolling_24_hour_volume': u'283.524985', u'pair': u'XBTZAR', u'ask': u'84394.00'}, 'askVolume': None, 'last': 84011.0, 'timestamp': 1523388287143, 'symbol': u'BTC/ZAR', 'previousClose': None, 'bidVolume': None, 'datetime': '2018-04-10T19:24:47.143Z', 'high': None, 'average': None, 'low': None, 'quoteVolume': None, 'ask': 84394.0, 'close': 84011.0, 'percentage': None, 'vwap': None, 'open': None, 'bid': 84022.0, 'change': None, 'baseVolume': 283.524985}\n",
      "{'info': {u'volume': u'7381.56200881', u'last': u'6847.20', u'timestamp': u'1523388285', u'bid': u'6843.97', u'vwap': u'6743.92', u'high': u'6871.88', u'low': u'6611.49', u'ask': u'6847.40', u'open': u'6782.39'}, 'askVolume': None, 'last': 6847.2, 'timestamp': 1523388285000, 'symbol': 'BTC/USD', 'previousClose': None, 'bidVolume': None, 'datetime': '2018-04-10T19:24:45.000Z', 'high': 6871.88, 'average': None, 'low': 6611.49, 'quoteVolume': 49780663.66245394, 'ask': 6847.4, 'close': 6847.2, 'percentage': None, 'vwap': 6743.92, 'open': 6782.39, 'bid': 6843.97, 'change': None, 'baseVolume': 7381.56200881}\n",
      "{'info': {u'avg': u'83095.39112364', u'min': u'82101.00000000', u'vol': u'0.91283989', u'max': u'121000.00000000', u'last_price': u'84500.00000000', u'pair_name': u'btc/zar', u'pair_id': u'3'}, 'askVolume': None, 'last': 84500.0, 'timestamp': 1523388291580, 'symbol': u'BTC/ZAR', 'previousClose': None, 'bidVolume': None, 'datetime': '2018-04-10T19:24:51.580Z', 'high': 121000.0, 'average': 83095.39112364, 'low': 82101.0, 'quoteVolume': 0.91283989, 'ask': None, 'close': 84500.0, 'percentage': None, 'vwap': None, 'open': None, 'bid': None, 'change': None, 'baseVolume': None}\n",
      "{'info': {u'a': [u'6834.00000', u'1', u'1.000'], u'c': [u'6830.20000', u'3.12519926'], u'b': [u'6833.10000', u'1', u'1.000'], u'h': [u'6883.60000', u'6883.60000'], u'l': [u'6646.80000', u'6608.30000'], u'o': u'6774.20000', u'p': [u'6771.19940', u'6740.75869'], u't': [9971, 15782], u'v': [u'3774.40623680', u'6189.64623778']}, 'askVolume': None, 'last': 6830.2, 'timestamp': 1523388297403, 'symbol': u'BTC/USD', 'previousClose': None, 'bidVolume': None, 'datetime': '2018-04-10T19:24:57.403Z', 'high': 6883.6, 'average': None, 'low': 6608.3, 'quoteVolume': 41722911.66534134, 'ask': 6834.0, 'close': 6830.2, 'percentage': None, 'vwap': 6740.75869, 'open': 6774.2, 'bid': 6833.1, 'change': None, 'baseVolume': 6189.64623778}\n"
     ]
    }
   ],
   "source": [
    "LUNO_BTC = luno.fetch_ticker('BTC/ZAR')\n",
    "BS_BTC = bitstamp.fetch_ticker('BTC/USD')\n",
    "ICE_BTC = ice3x.fetch_ticker('BTC/ZAR')\n",
    "KR_BTC = kraken.fetch_ticker('BTC/USD')\n",
    "\n",
    "print(LUNO_BTC)\n",
    "print(BS_BTC)\n",
    "print(ICE_BTC)\n",
    "print(KR_BTC)"
   ]
  },
  {
   "cell_type": "code",
   "execution_count": 29,
   "metadata": {
    "ExecuteTime": {
     "end_time": "2018-04-10T19:25:24.327387Z",
     "start_time": "2018-04-10T19:25:24.317138Z"
    }
   },
   "outputs": [
    {
     "data": {
      "text/plain": [
       "84394.0"
      ]
     },
     "execution_count": 29,
     "metadata": {},
     "output_type": "execute_result"
    }
   ],
   "source": [
    "LUNO_BTC['ask']"
   ]
  },
  {
   "cell_type": "code",
   "execution_count": 30,
   "metadata": {
    "ExecuteTime": {
     "end_time": "2018-04-10T19:25:35.911145Z",
     "start_time": "2018-04-10T19:25:35.901350Z"
    }
   },
   "outputs": [
    {
     "data": {
      "text/plain": [
       "84022.0"
      ]
     },
     "execution_count": 30,
     "metadata": {},
     "output_type": "execute_result"
    }
   ],
   "source": [
    "LUNO_BTC['bid']"
   ]
  },
  {
   "cell_type": "code",
   "execution_count": 31,
   "metadata": {
    "ExecuteTime": {
     "end_time": "2018-04-10T19:25:53.040412Z",
     "start_time": "2018-04-10T19:25:53.031489Z"
    }
   },
   "outputs": [
    {
     "data": {
      "text/plain": [
       "6847.4"
      ]
     },
     "execution_count": 31,
     "metadata": {},
     "output_type": "execute_result"
    }
   ],
   "source": [
    "BS_BTC['ask']"
   ]
  },
  {
   "cell_type": "code",
   "execution_count": 32,
   "metadata": {
    "ExecuteTime": {
     "end_time": "2018-04-10T19:26:01.418738Z",
     "start_time": "2018-04-10T19:26:01.409240Z"
    }
   },
   "outputs": [
    {
     "data": {
      "text/plain": [
       "6843.97"
      ]
     },
     "execution_count": 32,
     "metadata": {},
     "output_type": "execute_result"
    }
   ],
   "source": [
    "BS_BTC['bid']"
   ]
  },
  {
   "cell_type": "code",
   "execution_count": 40,
   "metadata": {
    "ExecuteTime": {
     "end_time": "2018-04-10T19:35:05.632333Z",
     "start_time": "2018-04-10T19:35:05.624354Z"
    }
   },
   "outputs": [
    {
     "name": "stdout",
     "output_type": "stream",
     "text": [
      "(35000, 35160.25773233529, 0.4578792352436825)\n"
     ]
    }
   ],
   "source": [
    "AMT = 35000\n",
    "AMT_D = 0.9998*0.99*LUNO_BTC['bid']*(USDZAR*AMT*(1/BS_BTC['ask']) - 7.5*(1/BS_BTC['ask']))-8.5\n",
    "DIFF = AMT_D - AMT\n",
    "ARB = 100*(DIFF/AMT)\n",
    "print(AMT, AMT_D, ARB)\n"
   ]
  },
  {
   "cell_type": "code",
   "execution_count": 41,
   "metadata": {
    "ExecuteTime": {
     "end_time": "2018-04-10T19:46:39.038253Z",
     "start_time": "2018-04-10T19:46:39.032549Z"
    }
   },
   "outputs": [
    {
     "name": "stdout",
     "output_type": "stream",
     "text": [
      "[10000, 15000, 20000, 25000, 30000, 35000, 40000, 45000]\n"
     ]
    }
   ],
   "source": [
    "print(range(10000,50000,5000))"
   ]
  },
  {
   "cell_type": "code",
   "execution_count": 2,
   "metadata": {
    "ExecuteTime": {
     "end_time": "2018-04-11T16:40:56.379365Z",
     "start_time": "2018-04-11T16:40:56.358137Z"
    }
   },
   "outputs": [
    {
     "data": {
      "text/plain": [
       "datetime.datetime(2018, 4, 11, 18, 40, 56, 359846)"
      ]
     },
     "execution_count": 2,
     "metadata": {},
     "output_type": "execute_result"
    }
   ],
   "source": [
    "datetime.datetime.now()"
   ]
  },
  {
   "cell_type": "code",
   "execution_count": 14,
   "metadata": {
    "ExecuteTime": {
     "end_time": "2018-04-11T16:44:09.391039Z",
     "start_time": "2018-04-11T16:44:09.384507Z"
    }
   },
   "outputs": [
    {
     "name": "stdout",
     "output_type": "stream",
     "text": [
      "1 day, 18:44:09.387120\n"
     ]
    }
   ],
   "source": [
    "a = datetime.datetime(2018,4,10)\n",
    "#time.sleep(2)\n",
    "b = datetime.datetime.now()\n",
    "c = b-a\n",
    "print(b-a)"
   ]
  },
  {
   "cell_type": "code",
   "execution_count": 24,
   "metadata": {
    "ExecuteTime": {
     "end_time": "2018-04-11T16:46:17.726453Z",
     "start_time": "2018-04-11T16:46:17.718077Z"
    }
   },
   "outputs": [
    {
     "data": {
      "text/plain": [
       "18"
      ]
     },
     "execution_count": 24,
     "metadata": {},
     "output_type": "execute_result"
    }
   ],
   "source": [
    "c.seconds//3600"
   ]
  },
  {
   "cell_type": "code",
   "execution_count": 36,
   "metadata": {
    "ExecuteTime": {
     "end_time": "2018-04-11T16:48:29.617302Z",
     "start_time": "2018-04-11T16:48:29.611970Z"
    }
   },
   "outputs": [],
   "source": [
    "d = datetime.timedelta(seconds = 100000)"
   ]
  },
  {
   "cell_type": "code",
   "execution_count": 40,
   "metadata": {
    "ExecuteTime": {
     "end_time": "2018-04-11T16:51:02.043753Z",
     "start_time": "2018-04-11T16:51:02.034177Z"
    }
   },
   "outputs": [
    {
     "data": {
      "text/plain": [
       "True"
      ]
     },
     "execution_count": 40,
     "metadata": {},
     "output_type": "execute_result"
    }
   ],
   "source": [
    "c > datetime.timedelta(seconds=20)"
   ]
  },
  {
   "cell_type": "code",
   "execution_count": 35,
   "metadata": {
    "ExecuteTime": {
     "end_time": "2018-04-11T16:48:25.530422Z",
     "start_time": "2018-04-11T16:48:25.521097Z"
    }
   },
   "outputs": [
    {
     "data": {
      "text/plain": [
       "86400"
      ]
     },
     "execution_count": 35,
     "metadata": {},
     "output_type": "execute_result"
    }
   ],
   "source": [
    "60*60*24"
   ]
  },
  {
   "cell_type": "code",
   "execution_count": null,
   "metadata": {
    "ExecuteTime": {
     "end_time": "2018-04-11T19:57:07.138918Z",
     "start_time": "2018-04-11T19:57:06.353255Z"
    }
   },
   "outputs": [
    {
     "name": "stdout",
     "output_type": "stream",
     "text": [
      "{\"ok\":true,\"result\":[{\"update_id\":213821150,\n",
      "\"message\":{\"message_id\":55,\"from\":{\"id\":419194191,\"is_bot\":false,\"first_name\":\"Chris\",\"language_code\":\"en-gb\"},\"chat\":{\"id\":419194191,\"first_name\":\"Chris\",\"type\":\"private\"},\"date\":1523476254,\"text\":\"Test\"}}]}\n"
     ]
    }
   ],
   "source": [
    "import json \n",
    "import requests\n",
    "\n",
    "TOKEN = \"\"\n",
    "URL = \"https://api.telegram.org/bot{}/\".format(TOKEN)+\"getUpdates\"\n",
    "\n",
    "response = requests.get(URL)\n",
    "content = response.content.decode(\"utf8\")\n",
    "print(content)"
   ]
  },
  {
   "cell_type": "code",
   "execution_count": 2,
   "metadata": {
    "ExecuteTime": {
     "end_time": "2018-04-11T20:02:11.818468Z",
     "start_time": "2018-04-11T20:02:11.812118Z"
    }
   },
   "outputs": [
    {
     "ename": "KeyError",
     "evalue": "'result'",
     "traceback": [
      "\u001b[0;31m\u001b[0m",
      "\u001b[0;31mKeyError\u001b[0mTraceback (most recent call last)",
      "\u001b[0;32m<ipython-input-2-269edea046bb>\u001b[0m in \u001b[0;36m<module>\u001b[0;34m()\u001b[0m\n\u001b[1;32m      1\u001b[0m \u001b[0;32mimport\u001b[0m \u001b[0mjson\u001b[0m\u001b[0;34m\u001b[0m\u001b[0m\n\u001b[1;32m      2\u001b[0m \u001b[0mjs\u001b[0m \u001b[0;34m=\u001b[0m \u001b[0mjson\u001b[0m\u001b[0;34m.\u001b[0m\u001b[0mloads\u001b[0m\u001b[0;34m(\u001b[0m\u001b[0mcontent\u001b[0m\u001b[0;34m)\u001b[0m\u001b[0;34m\u001b[0m\u001b[0m\n\u001b[0;32m----> 3\u001b[0;31m \u001b[0;32mprint\u001b[0m\u001b[0;34m(\u001b[0m\u001b[0mjs\u001b[0m\u001b[0;34m[\u001b[0m\u001b[0;34m\"result\"\u001b[0m\u001b[0;34m]\u001b[0m\u001b[0;34m[\u001b[0m\u001b[0;36m0\u001b[0m\u001b[0;34m]\u001b[0m\u001b[0;34m[\u001b[0m\u001b[0;34m\"message\"\u001b[0m\u001b[0;34m]\u001b[0m\u001b[0;34m[\u001b[0m\u001b[0;34m\"text\"\u001b[0m\u001b[0;34m]\u001b[0m\u001b[0;34m)\u001b[0m\u001b[0;34m\u001b[0m\u001b[0m\n\u001b[0m",
      "\u001b[0;31mKeyError\u001b[0m: 'result'"
     ],
     "output_type": "error"
    }
   ],
   "source": [
    "import json\n",
    "js = json.loads(content)\n",
    "print(js[\"result\"][0][\"message\"][\"text\"])"
   ]
  },
  {
   "cell_type": "code",
   "execution_count": null,
   "metadata": {
    "ExecuteTime": {
     "end_time": "2018-04-11T20:03:06.766693Z",
     "start_time": "2018-04-11T20:03:06.761042Z"
    }
   },
   "outputs": [
    {
     "name": "stdout",
     "output_type": "stream",
     "text": [
      "419194191\n"
     ]
    }
   ],
   "source": [
    "print(js[\"result\"][0][\"message\"][\"from\"][\"id\"])"
   ]
  },
  {
   "cell_type": "code",
   "execution_count": 13,
   "metadata": {
    "ExecuteTime": {
     "end_time": "2018-04-14T11:26:42.445799Z",
     "start_time": "2018-04-14T11:26:42.439627Z"
    }
   },
   "outputs": [
    {
     "name": "stdout",
     "output_type": "stream",
     "text": [
      "2018-04-14 13:26:42.441501\n"
     ]
    }
   ],
   "source": [
    "CT = datetime.datetime.now()\n",
    "print(CT)"
   ]
  },
  {
   "cell_type": "code",
   "execution_count": 14,
   "metadata": {
    "ExecuteTime": {
     "end_time": "2018-04-14T11:26:43.517860Z",
     "start_time": "2018-04-14T11:26:43.511811Z"
    }
   },
   "outputs": [
    {
     "name": "stdout",
     "output_type": "stream",
     "text": [
      "2018-04-14 07:30:00.441501\n"
     ]
    }
   ],
   "source": [
    "MorningTime = CT.replace(hour = 7, minute = 30, second = 0)\n",
    "print(MorningTime)"
   ]
  },
  {
   "cell_type": "code",
   "execution_count": 16,
   "metadata": {
    "ExecuteTime": {
     "end_time": "2018-04-14T11:26:47.887698Z",
     "start_time": "2018-04-14T11:26:47.877643Z"
    }
   },
   "outputs": [
    {
     "data": {
      "text/plain": [
       "True"
      ]
     },
     "execution_count": 16,
     "metadata": {},
     "output_type": "execute_result"
    }
   ],
   "source": [
    "MorningTime < CT"
   ]
  },
  {
   "cell_type": "code",
   "execution_count": 5,
   "metadata": {
    "ExecuteTime": {
     "end_time": "2018-04-14T15:24:00.631814Z",
     "start_time": "2018-04-14T15:23:52.206831Z"
    }
   },
   "outputs": [
    {
     "name": "stdout",
     "output_type": "stream",
     "text": [
      "{'info': {u'last_trade': u'97404.00', u'timestamp': 1523719434098, u'bid': u'97404.00', u'rolling_24_hour_volume': u'346.925344', u'pair': u'XBTZAR', u'ask': u'97405.00'}, 'askVolume': None, 'last': 97404.0, 'timestamp': 1523719434098, 'symbol': u'BTC/ZAR', 'previousClose': None, 'bidVolume': None, 'datetime': '2018-04-14T15:23:54.980Z', 'high': None, 'average': None, 'low': None, 'quoteVolume': None, 'ask': 97405.0, 'close': 97404.0, 'percentage': None, 'vwap': None, 'open': None, 'bid': 97404.0, 'change': None, 'baseVolume': 346.925344}\n",
      "{'info': {u'volume': u'12610.07253125', u'last': u'8002.02', u'timestamp': u'1523719433', u'bid': u'7998.14', u'vwap': u'8015.54', u'high': u'8232.14', u'low': u'7805.00', u'ask': u'8002.02', u'open': u'7885.90'}, 'askVolume': None, 'last': 8002.02, 'timestamp': 1523719433000, 'symbol': 'BTC/USD', 'previousClose': None, 'bidVolume': None, 'datetime': '2018-04-14T15:23:53.000Z', 'high': 8232.14, 'average': None, 'low': 7805.0, 'quoteVolume': 101076540.77713563, 'ask': 8002.02, 'close': 8002.02, 'percentage': None, 'vwap': 8015.54, 'open': 7885.9, 'bid': 7998.14, 'change': None, 'baseVolume': 12610.07253125}\n",
      "{'info': {u'avg': u'97482.48265064', u'min': u'95500.00000000', u'vol': u'0.92054821', u'max': u'99000.01000000', u'last_price': u'96000.01000000', u'pair_name': u'btc/zar', u'pair_id': u'3'}, 'askVolume': None, 'last': 96000.01, 'timestamp': 1523719438601, 'symbol': u'BTC/ZAR', 'previousClose': None, 'bidVolume': None, 'datetime': '2018-04-14T15:23:58.601Z', 'high': 99000.01, 'average': 97482.48265064, 'low': 95500.0, 'quoteVolume': 0.92054821, 'ask': None, 'close': 96000.01, 'percentage': None, 'vwap': None, 'open': None, 'bid': None, 'change': None, 'baseVolume': None}\n",
      "{'info': {u'a': [u'7995.80000', u'1', u'1.000'], u'c': [u'7995.00000', u'0.00253401'], u'b': [u'7992.60000', u'1', u'1.000'], u'h': [u'8215.30000', u'8215.30000'], u'l': [u'7816.20000', u'7804.50000'], u'o': u'7882.40000', u'p': [u'8026.15607', u'8003.28813'], u't': [10524, 19755], u'v': [u'3898.24652250', u'7509.26108217']}, 'askVolume': None, 'last': 7995.0, 'timestamp': 1523719440626, 'symbol': u'BTC/USD', 'previousClose': None, 'bidVolume': None, 'datetime': '2018-04-14T15:24:00.626Z', 'high': 8215.3, 'average': None, 'low': 7804.5, 'quoteVolume': 60098780.084002115, 'ask': 7995.8, 'close': 7995.0, 'percentage': None, 'vwap': 8003.28813, 'open': 7882.4, 'bid': 7992.6, 'change': None, 'baseVolume': 7509.26108217}\n"
     ]
    }
   ],
   "source": [
    "luno = ccxt.luno()\n",
    "bitstamp = ccxt.bitstamp()\n",
    "ice3x = ccxt.ice3x()\n",
    "kraken = ccxt.kraken()\n",
    "\n",
    "LUNO_BTC = luno.fetch_ticker('BTC/ZAR')\n",
    "BS_BTC = bitstamp.fetch_ticker('BTC/USD')\n",
    "ICE_BTC = ice3x.fetch_ticker('BTC/ZAR')\n",
    "KR_BTC = kraken.fetch_ticker('BTC/USD')\n",
    "\n",
    "print(LUNO_BTC)\n",
    "print(BS_BTC)\n",
    "print(ICE_BTC)\n",
    "print(KR_BTC)"
   ]
  },
  {
   "cell_type": "code",
   "execution_count": 69,
   "metadata": {
    "ExecuteTime": {
     "end_time": "2018-04-14T16:24:57.604996Z",
     "start_time": "2018-04-14T16:24:57.484238Z"
    }
   },
   "outputs": [],
   "source": [
    "def get_ticker_rates(ex = ccxt.bitstamp(), tickers = np.array(['BTC/USD', 'LTC/USD'])):\n",
    "    rates = []\n",
    "    for ticker in tickers:\n",
    "        rate = ex.fetch_ticker(ticker)\n",
    "        rates.append(rate)\n",
    "        sleep(2)\n",
    "    return rates\n",
    "\n",
    "def get_zar_usd():\n",
    "    c = CurrencyRates()\n",
    "    return(c.get_rate('USD','ZAR'))\n",
    "\n",
    "\n",
    "def calc_arb(AMT, BID, ASK, BASE, PEN1 = 0.9998, PEN2 = 0.99, ZAR_WITHDRAW_COST = 8.5, USD_DEP_COST = 7.5):\n",
    "    VAL = PEN1 * PEN2* BID * (BASE * AMT * (1 / ASK) - USD_DEP_COST* (1 / ASK)) - ZAR_WITHDRAW_COST\n",
    "    DIFF = VAL-AMT\n",
    "    ARB = DIFF/AMT\n",
    "    return(ARB)\n",
    "\n",
    "def get_crypto_arb(AMT=30000, plt_results = False):\n",
    "    luno = ccxt.luno()\n",
    "    bitstamp = ccxt.bitstamp()\n",
    "    ice3x = ccxt.ice3x()\n",
    "\n",
    "    zarusd = get_zar_usd()\n",
    "    usdzar = 1 / zarusd\n",
    "\n",
    "    luno_tickers = np.array(['BTC/ZAR'])\n",
    "    bitstamp_tickers = np.array(['BTC/USD', 'LTC/USD'])\n",
    "    ice3x_tickers = np.array(['BTC/ZAR', 'LTC/ZAR'])\n",
    "\n",
    "    luno_rates = get_ticker_rates(luno, luno_tickers)\n",
    "    bitstamp_rates = get_ticker_rates(bitstamp, bitstamp_tickers)\n",
    "    ice3x_rates = get_ticker_rates(ice3x, ice3x_tickers)\n",
    "\n",
    "    luno_btc_arb = calc_arb(AMT, luno_rates[0]['bid'], bitstamp_rates[0]['ask'], usdzar)\n",
    "\n",
    "    ice3x_btc_arb = calc_arb(AMT, ice3x_rates[0]['last'], bitstamp_rates[0]['ask'], usdzar)\n",
    "    ice3x_ltc_arb = calc_arb(AMT, ice3x_rates[1]['last'], bitstamp_rates[1]['ask'], usdzar)\n",
    "\n",
    "    luno_btc_revarb = calc_rev_arb(ASK=luno_rates[0]['ask'], BID=bitstamp_rates[0]['bid'], BASE=zarusd)\n",
    "    ice3x_btc_revarb = calc_rev_arb(ASK=ice3x_rates[0]['last'], BID=bitstamp_rates[0]['bid'], BASE=zarusd)\n",
    "    ice3x_ltc_revarb = calc_rev_arb(ASK=ice3x_rates[1]['last'], BID=bitstamp_rates[1]['bid'], BASE=zarusd)\n",
    "    \n",
    "    print luno_btc_arb, ice3x_btc_arb, ice3x_ltc_arb, luno_btc_revarb, ice3x_btc_revarb, ice3x_ltc_revarb\n",
    "\n",
    "    if plt_results:\n",
    "        AMT_VEC = range(1, 35000, 100)\n",
    "\n",
    "        LUNO_BTC_VEC = [calc_arb(x, luno_rates[0]['bid'], bitstamp_rates[0]['ask'], usdzar) for x in AMT_VEC]\n",
    "        ICE3X_BTC_VEC = [calc_arb(x, ice3x_rates[0]['last'], bitstamp_rates[0]['ask'], usdzar) for x in AMT_VEC]\n",
    "        ICE3X_LTC_VEC = [calc_arb(x, ice3x_rates[1]['last'], bitstamp_rates[1]['ask'], usdzar) for x in AMT_VEC]\n",
    "        \n",
    "        plt.plot(AMT_VEC, LUNO_BTC_VEC)\n",
    "        plt.plot(AMT_VEC, ICE3X_BTC_VEC)\n",
    "        plt.plot(AMT_VEC, ICE3X_LTC_VEC)\n",
    "        plt.legend(['LUNO_BTC', 'ICE3X_BTC', 'ICE3X_LTC'], loc='lower right')\n",
    "        plt.show()\n",
    "\n",
    "    return luno_btc_arb, ice3x_btc_arb, ice3x_ltc_arb, luno_btc_revarb, ice3x_btc_revarb, ice3x_ltc_revarb\n",
    "\n",
    "def get_crypto_rates(AMT = 30000):\n",
    "    luno = ccxt.luno()\n",
    "    bitstamp = ccxt.bitstamp()\n",
    "    ice3x = ccxt.ice3x()\n",
    "\n",
    "    zarusd = get_zar_usd()\n",
    "    usdzar = 1 / zarusd\n",
    "\n",
    "    luno_tickers = np.array(['BTC/ZAR'])\n",
    "    bitstamp_tickers = np.array(['BTC/USD', 'LTC/USD'])\n",
    "    ice3x_tickers = np.array(['BTC/ZAR', 'LTC/ZAR'])\n",
    "\n",
    "    luno_rates = get_ticker_rates(luno, luno_tickers)\n",
    "    bitstamp_rates = get_ticker_rates(bitstamp, bitstamp_tickers)\n",
    "    ice3x_rates = get_ticker_rates(ice3x, ice3x_tickers)\n",
    "\n",
    "    return luno_rates, bitstamp_rates, ice3x_rates\n",
    "\n",
    "def calc_rev_arb(ASK, BID, AMT = 10000.00, BASE = 12.00, PEN = 0.99):\n",
    "    base_dollars = AMT/BASE\n",
    "    bought = AMT*(1/ASK)*BID*PEN*PEN*PEN\n",
    "    diff = bought-base_dollars\n",
    "    rev_arb = diff/base_dollars\n",
    "    #print('BASE: {b}, DIFF: {d}, Bought: {a}'.format(b = base_dollars, d=diff, a=bought))\n",
    "    return(rev_arb)"
   ]
  },
  {
   "cell_type": "code",
   "execution_count": null,
   "metadata": {
    "ExecuteTime": {
     "end_time": "2018-04-14T15:53:40.970845Z",
     "start_time": "2018-04-14T15:53:24.796758Z"
    }
   },
   "outputs": [],
   "source": []
  },
  {
   "cell_type": "code",
   "execution_count": null,
   "metadata": {
    "ExecuteTime": {
     "end_time": "2018-04-14T15:54:22.927807Z",
     "start_time": "2018-04-14T15:54:22.918689Z"
    }
   },
   "outputs": [],
   "source": []
  },
  {
   "cell_type": "code",
   "execution_count": 70,
   "metadata": {
    "ExecuteTime": {
     "end_time": "2018-04-14T16:25:16.301099Z",
     "start_time": "2018-04-14T16:24:59.303517Z"
    }
   },
   "outputs": [
    {
     "name": "stdout",
     "output_type": "stream",
     "text": [
      "0.00059975543359 -0.0149196188115 0.0189005010278 -0.0437968240169 -0.0287267647197 -0.0615592083666\n"
     ]
    },
    {
     "data": {
      "image/png": "[encoded data removed]",
      "text/plain": [
       "<Figure size 432x288 with 1 Axes>"
      ]
     },
     "metadata": {},
     "output_type": "display_data"
    }
   ],
   "source": [
    "vals = get_crypto_arb(plt_results=True)"
   ]
  },
  {
   "cell_type": "code",
   "execution_count": null,
   "metadata": {
    "ExecuteTime": {
     "end_time": "2018-04-14T16:21:08.947697Z",
     "start_time": "2018-04-14T16:21:08.938115Z"
    }
   },
   "outputs": [],
   "source": []
  },
  {
   "cell_type": "code",
   "execution_count": null,
   "metadata": {},
   "outputs": [],
   "source": []
  }
 ],
 "metadata": {
  "kernelspec": {
   "display_name": "Python 2",
   "language": "python",
   "name": "python2"
  },
  "language_info": {
   "codemirror_mode": {
    "name": "ipython",
    "version": 2
   },
   "file_extension": ".py",
   "mimetype": "text/x-python",
   "name": "python",
   "nbconvert_exporter": "python",
   "pygments_lexer": "ipython2",
   "version": "2.7.14"
  }
 },
 "nbformat": 4,
 "nbformat_minor": 1
}
