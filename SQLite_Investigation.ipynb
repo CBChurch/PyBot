{
 "cells": [
  {
   "cell_type": "code",
   "execution_count": 16,
   "metadata": {
    "ExecuteTime": {
     "end_time": "2018-04-16T15:49:03.611313Z",
     "start_time": "2018-04-16T15:49:02.996525Z"
    }
   },
   "outputs": [],
   "source": [
    "import sqlite3\n",
    "import os\n",
    "import pandas as pd"
   ]
  },
  {
   "cell_type": "code",
   "execution_count": 2,
   "metadata": {
    "ExecuteTime": {
     "end_time": "2018-04-16T15:46:09.537776Z",
     "start_time": "2018-04-16T15:46:09.515386Z"
    }
   },
   "outputs": [
    {
     "data": {
      "text/plain": [
       "'/Users/chrischurch/R_Projects/Py_Projects/CryptoBot'"
      ]
     },
     "execution_count": 2,
     "metadata": {},
     "output_type": "execute_result"
    }
   ],
   "source": [
    "os.getcwd()"
   ]
  },
  {
   "cell_type": "code",
   "execution_count": 25,
   "metadata": {
    "ExecuteTime": {
     "end_time": "2018-04-16T15:55:40.363411Z",
     "start_time": "2018-04-16T15:55:40.356120Z"
    }
   },
   "outputs": [],
   "source": [
    "conn = sqlite3.connect('data/PyBot_DB.sqlite')"
   ]
  },
  {
   "cell_type": "code",
   "execution_count": 26,
   "metadata": {
    "ExecuteTime": {
     "end_time": "2018-04-16T15:55:40.881489Z",
     "start_time": "2018-04-16T15:55:40.875640Z"
    }
   },
   "outputs": [],
   "source": [
    "c = conn.cursor()"
   ]
  },
  {
   "cell_type": "code",
   "execution_count": 27,
   "metadata": {
    "ExecuteTime": {
     "end_time": "2018-04-16T15:55:47.086865Z",
     "start_time": "2018-04-16T15:55:47.081841Z"
    }
   },
   "outputs": [],
   "source": [
    "test = c.execute('SELECT * FROM arb')"
   ]
  },
  {
   "cell_type": "code",
   "execution_count": 28,
   "metadata": {
    "ExecuteTime": {
     "end_time": "2018-04-16T15:55:47.770705Z",
     "start_time": "2018-04-16T15:55:47.764598Z"
    }
   },
   "outputs": [],
   "source": [
    "row = test.fetchall()"
   ]
  },
  {
   "cell_type": "code",
   "execution_count": 29,
   "metadata": {
    "ExecuteTime": {
     "end_time": "2018-04-16T15:55:47.970900Z",
     "start_time": "2018-04-16T15:55:47.963282Z"
    }
   },
   "outputs": [
    {
     "name": "stdout",
     "output_type": "stream",
     "text": [
      "[(u'2018-04-16 17:47:09.192715', 12.083, 0.01040859228546748, 0.004063734410908243, -0.0034516205481873235, -0.05342540888241349, -0.04743589315835317, -0.04058855605917433), (u'2018-04-16 17:48:32.528562', 12.083, 0.010566668801809889, 0.004220818564489915, -0.0022727750978736973, -0.053073407863767526, -0.04708166482909067, -0.041193672075535516), (u'2018-04-16 17:49:58.148113', 12.083, 0.010960177815032876, 0.004611857231707472, -0.0022727750978736973, -0.053863928669952106, -0.0478771877099595, -0.041193672075535516), (u'2018-04-16 17:51:21.198067', 12.083, 0.011080442627545442, 0.0047313670533831705, -0.0022727750978736973, -0.05372407641338579, -0.04773645052863621, -0.040966753569400036), (u'2018-04-16 17:52:41.803525', 12.083, 0.010547697009060115, 0.004201965871661256, -0.00329460208511955, -0.05375726169460492, -0.04776984579200113, -0.04081547456530967), (u'2018-04-16 17:54:04.566679', 12.083, 0.010733651290752459, 0.004386752781320077, -0.003373117499456445, -0.05356644632759479, -0.047577823027653565, -0.04081547456530967), (u'2018-04-16 17:55:26.663654', 12.083, 0.010991823676749361, 0.03187742969589635, -0.00329460208511955, -0.053863928669952106, -0.07299946794781985, -0.04081547456530967)]\n"
     ]
    }
   ],
   "source": [
    "print(row)"
   ]
  },
  {
   "cell_type": "code",
   "execution_count": 46,
   "metadata": {
    "ExecuteTime": {
     "end_time": "2018-04-16T16:03:06.111401Z",
     "start_time": "2018-04-16T16:03:06.105512Z"
    }
   },
   "outputs": [],
   "source": [
    "schema = c.execute(\"PRAGMA table_info(arb)\").fetchall()"
   ]
  },
  {
   "cell_type": "code",
   "execution_count": 39,
   "metadata": {
    "ExecuteTime": {
     "end_time": "2018-04-16T15:59:25.670567Z",
     "start_time": "2018-04-16T15:59:25.664562Z"
    }
   },
   "outputs": [],
   "source": [
    "data = c.execute('SELECT * FROM arb ORDER BY time DESC LIMIT 1').fetchall()"
   ]
  },
  {
   "cell_type": "code",
   "execution_count": 45,
   "metadata": {
    "ExecuteTime": {
     "end_time": "2018-04-16T15:59:50.334610Z",
     "start_time": "2018-04-16T15:59:50.324646Z"
    }
   },
   "outputs": [
    {
     "data": {
      "text/plain": [
       "(u'2018-04-16 17:58:10.615793',\n",
       " 12.083,\n",
       " 0.01118427315405946,\n",
       " 0.03207385378282076,\n",
       " -0.002036671346221071,\n",
       " -0.053626890946958106,\n",
       " -0.07276722429704897,\n",
       " -0.042782101618483996)"
      ]
     },
     "execution_count": 45,
     "metadata": {},
     "output_type": "execute_result"
    }
   ],
   "source": [
    "data[0]"
   ]
  },
  {
   "cell_type": "code",
   "execution_count": 53,
   "metadata": {
    "ExecuteTime": {
     "end_time": "2018-04-16T16:07:38.260345Z",
     "start_time": "2018-04-16T16:07:38.247296Z"
    }
   },
   "outputs": [
    {
     "data": {
      "text/plain": [
       "[(0, u'time', u'datetime', 0, None, 0),\n",
       " (1, u'zarusd', u'real', 0, None, 0),\n",
       " (2, u'luno_btc_arb', u'real', 0, None, 0),\n",
       " (3, u'ice3x_btc_arb', u'real', 0, None, 0),\n",
       " (4, u'ice3x_ltc_arb', u'real', 0, None, 0),\n",
       " (5, u'luno_btc_revarb', u'real', 0, None, 0),\n",
       " (6, u'ice3x_btc_revarb', u'real', 0, None, 0),\n",
       " (7, u'ice3x_ltc_revarb', u'real', 0, None, 0)]"
      ]
     },
     "execution_count": 53,
     "metadata": {},
     "output_type": "execute_result"
    }
   ],
   "source": [
    "schema"
   ]
  },
  {
   "cell_type": "code",
   "execution_count": 54,
   "metadata": {
    "ExecuteTime": {
     "end_time": "2018-04-16T16:08:57.612628Z",
     "start_time": "2018-04-16T16:08:57.603017Z"
    }
   },
   "outputs": [
    {
     "data": {
      "text/plain": [
       "(-0.053626890946958106, -0.07276722429704897, -0.042782101618483996)"
      ]
     },
     "execution_count": 54,
     "metadata": {},
     "output_type": "execute_result"
    }
   ],
   "source": [
    "data[0][5:]"
   ]
  },
  {
   "cell_type": "code",
   "execution_count": null,
   "metadata": {},
   "outputs": [],
   "source": []
  }
 ],
 "metadata": {
  "kernelspec": {
   "display_name": "Python 2",
   "language": "python",
   "name": "python2"
  },
  "language_info": {
   "codemirror_mode": {
    "name": "ipython",
    "version": 2
   },
   "file_extension": ".py",
   "mimetype": "text/x-python",
   "name": "python",
   "nbconvert_exporter": "python",
   "pygments_lexer": "ipython2",
   "version": "2.7.14"
  }
 },
 "nbformat": 4,
 "nbformat_minor": 2
}
